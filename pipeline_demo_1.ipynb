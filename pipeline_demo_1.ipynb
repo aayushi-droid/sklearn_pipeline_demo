{
 "cells": [
  {
   "cell_type": "code",
   "execution_count": 1,
   "metadata": {
    "collapsed": true,
    "nbpresent": {
     "id": "5e2afb6a-c4b1-4bf5-a2f5-9783e96a5e75"
    }
   },
   "outputs": [],
   "source": [
    "from __future__ import print_function\n",
    "from __future__ import absolute_import\n",
    "from __future__ import division\n",
    "\n",
    "import pandas as pd\n",
    "import numpy as np\n",
    "\n",
    "from sklearn.pipeline import Pipeline, make_pipeline, FeatureUnion, make_union\n"
   ]
  },
  {
   "cell_type": "markdown",
   "metadata": {
    "nbpresent": {
     "id": "29667604-b046-4027-b9c0-2f8a7b702984"
    }
   },
   "source": [
    "--------------------------------------------------\n",
    "What is this talk about ?\n",
    "    - Machine Learning\n",
    "        - Python\n",
    "            - sci-kit learn\n",
    "                - pipeline\n",
    "------------------------------------------------                "
   ]
  },
  {
   "cell_type": "markdown",
   "metadata": {
    "nbpresent": {
     "id": "2e741cf0-7775-48d4-8228-d7e6f930c575"
    }
   },
   "source": [
    "--------------------------------------------\n",
    "Agenda\n",
    "    - sklearn pipelines\n",
    "    - Modeling example\n",
    "    - pice by peice walk through\n",
    "    - data science modeling lifecycle\n",
    "        - development\n",
    "        - deployment \n",
    "------------------------------------------        "
   ]
  },
  {
   "cell_type": "markdown",
   "metadata": {
    "nbpresent": {
     "id": "403c7a67-cc5b-4fad-9de1-e951f3ec3010"
    }
   },
   "source": [
    "-----------------------------------------\n",
    "* Any DS or ML pipeline consists of multiple steps -\n",
    "    \n",
    "    - fetching data\n",
    "    - splitting data\n",
    "    - creating features\n",
    "    - selecting feature\n",
    "    - hyper-parameter optimization\n",
    "    - final model\n",
    "-------------------------------------------    "
   ]
  },
  {
   "cell_type": "markdown",
   "metadata": {
    "nbpresent": {
     "id": "721d1c43-9d82-4128-a043-ae3b550d229c"
    }
   },
   "source": [
    "-----------------------------\n",
    "    - iris data\n",
    "    - present in sklearn\n",
    "    - data for three type of iris flower\n",
    "        - Setosa, Versicolour, Virginica\n",
    "        - attributes are\n",
    "            - sepal length\n",
    "            - sepal width\n",
    "            - petal length\n",
    "            - petal width\n",
    "            \n",
    "-----------------------------------------------\n"
   ]
  },
  {
   "cell_type": "markdown",
   "metadata": {
    "nbpresent": {
     "id": "1a1c8ced-070b-4f5a-9261-882d3dc919eb"
    }
   },
   "source": [
    "--------------------------------    \n",
    "    - In this talk, \n",
    "        - we try to develop a classification model, and \n",
    "        - demonstrate usefulness of sklearn pipeline in the process\n",
    "--------------------------------------            "
   ]
  },
  {
   "cell_type": "code",
   "execution_count": 2,
   "metadata": {
    "collapsed": false,
    "nbpresent": {
     "id": "9c58e406-ede1-4e31-af4f-ec7c843e97aa"
    }
   },
   "outputs": [],
   "source": [
    "from sklearn import datasets\n",
    "\n",
    "iris = datasets.load_iris()\n",
    "\n",
    "X = pd.DataFrame(iris.data, columns=['sepal_length', 'sepal_width', 'petal_length', 'petal_width'])\n",
    "\n",
    "Y = pd.DataFrame(iris.target, columns=['iris_type'])"
   ]
  },
  {
   "cell_type": "code",
   "execution_count": 3,
   "metadata": {
    "collapsed": false,
    "nbpresent": {
     "id": "60506fdb-e9c2-4bd6-87a4-37cf38017744"
    }
   },
   "outputs": [
    {
     "name": "stdout",
     "output_type": "stream",
     "text": [
      "   sepal_length  sepal_width  petal_length  petal_width\n",
      "0           5.1          3.5           1.4          0.2\n",
      "1           4.9          3.0           1.4          0.2\n",
      "2           4.7          3.2           1.3          0.2\n",
      "3           4.6          3.1           1.5          0.2\n",
      "4           5.0          3.6           1.4          0.2\n"
     ]
    }
   ],
   "source": [
    "print(X.head())"
   ]
  },
  {
   "cell_type": "code",
   "execution_count": 4,
   "metadata": {
    "collapsed": false,
    "nbpresent": {
     "id": "7d68096c-3050-4f5d-87e4-e4e9bcddd7bf"
    }
   },
   "outputs": [
    {
     "name": "stdout",
     "output_type": "stream",
     "text": [
      "   iris_type\n",
      "0          0\n",
      "1          0\n",
      "2          0\n",
      "3          0\n",
      "4          0\n"
     ]
    }
   ],
   "source": [
    "print(Y.head())"
   ]
  },
  {
   "cell_type": "code",
   "execution_count": 5,
   "metadata": {
    "collapsed": false,
    "nbpresent": {
     "id": "5f76d8bb-5e60-4a1e-b45e-a98412b04e65"
    }
   },
   "outputs": [],
   "source": [
    "from sklearn.preprocessing import MinMaxScaler\n",
    "\n",
    "from sklearn.cross_validation import train_test_split\n",
    "\n",
    "from sklearn.decomposition import PCA\n",
    "\n",
    "from sklearn.ensemble import RandomForestClassifier\n",
    "\n"
   ]
  },
  {
   "cell_type": "code",
   "execution_count": 6,
   "metadata": {
    "collapsed": false,
    "nbpresent": {
     "id": "b02f3cdf-b215-456a-9f20-b5c656f2d894"
    }
   },
   "outputs": [],
   "source": [
    "X_train, X_test, y_train, y_test = train_test_split(X, Y, test_size=0.2, random_state=42)"
   ]
  },
  {
   "cell_type": "markdown",
   "metadata": {},
   "source": [
    "--------------------------------\n",
    "        Non-pipeline appraoch\n",
    "------------------------------        "
   ]
  },
  {
   "cell_type": "code",
   "execution_count": 7,
   "metadata": {
    "collapsed": false
   },
   "outputs": [
    {
     "name": "stdout",
     "output_type": "stream",
     "text": [
      "[[-0.74585898  0.08940225]\n",
      " [-0.54574131  0.52234229]\n",
      " [ 0.2432025   0.12212192]\n",
      " [-0.64190346  0.03415288]\n",
      " [-0.71419809 -0.08911659]]\n"
     ]
    }
   ],
   "source": [
    "# Train data - Steps\n",
    "# 1. transform data - min max scaling\n",
    "# 2. feature selection - use PCA\n",
    "# 3. final prediction - logistic regression, random forest, gbrt etc.\n",
    "\n",
    "X_train_non_pipeline = pd.DataFrame(MinMaxScaler().fit_transform(X_train), columns=X_train.columns)\n",
    "\n",
    "X_train_non_pipeline = PCA().fit_transform(X_train_non_pipeline)\n",
    "\n",
    "print(X_train_non_pipeline[:5,:2 ])"
   ]
  },
  {
   "cell_type": "code",
   "execution_count": 8,
   "metadata": {
    "collapsed": false
   },
   "outputs": [
    {
     "data": {
      "text/plain": [
       "RandomForestClassifier(bootstrap=True, class_weight=None, criterion='gini',\n",
       "            max_depth=None, max_features='auto', max_leaf_nodes=None,\n",
       "            min_samples_leaf=1, min_samples_split=2,\n",
       "            min_weight_fraction_leaf=0.0, n_estimators=10, n_jobs=1,\n",
       "            oob_score=False, random_state=None, verbose=0,\n",
       "            warm_start=False)"
      ]
     },
     "execution_count": 8,
     "metadata": {},
     "output_type": "execute_result"
    }
   ],
   "source": [
    "rf = RandomForestClassifier()\n",
    "rf.fit(X_train_non_pipeline, y_train.values.ravel())"
   ]
  },
  {
   "cell_type": "code",
   "execution_count": 9,
   "metadata": {
    "collapsed": false
   },
   "outputs": [],
   "source": [
    "# test data\n",
    "\n",
    "X_test_non_pipeline = pd.DataFrame(MinMaxScaler().fit_transform(X_test), columns=X_test.columns)\n",
    "\n",
    "X_test_non_pipeline = PCA().fit_transform(X_test_non_pipeline)\n",
    "y_test_pred = rf.predict(X_test_non_pipeline)"
   ]
  },
  {
   "cell_type": "code",
   "execution_count": 10,
   "metadata": {
    "collapsed": false
   },
   "outputs": [
    {
     "name": "stdout",
     "output_type": "stream",
     "text": [
      "Accuracy on traun data  0.983333333333\n",
      "Accuracy on test data  0.3\n"
     ]
    }
   ],
   "source": [
    "#getting accuracy\n",
    "\n",
    "print(\"Accuracy on traun data \", rf.score(X_train_non_pipeline, y_train))\n",
    "print(\"Accuracy on test data \", rf.score(X_test_non_pipeline, y_test))"
   ]
  },
  {
   "cell_type": "markdown",
   "metadata": {},
   "source": [
    "Pipeline based model building"
   ]
  },
  {
   "cell_type": "code",
   "execution_count": 11,
   "metadata": {
    "collapsed": false
   },
   "outputs": [],
   "source": [
    "# creating pipeline which consists of scaler, PCA based feature selection and Random Forest Classifier\n",
    "pipeline_rf = Pipeline([\n",
    "        ('min_max_scaler', MinMaxScaler()),\n",
    "        ('pca_based_feature_selection', PCA()),\n",
    "        ('random_forest', RandomForestClassifier())\n",
    "    ])"
   ]
  },
  {
   "cell_type": "code",
   "execution_count": 12,
   "metadata": {
    "collapsed": false
   },
   "outputs": [
    {
     "data": {
      "text/plain": [
       "Pipeline(steps=[('min_max_scaler', MinMaxScaler(copy=True, feature_range=(0, 1))), ('pca_based_feature_selection', PCA(copy=True, n_components=None, whiten=False)), ('random_forest', RandomForestClassifier(bootstrap=True, class_weight=None, criterion='gini',\n",
       "            max_depth=None, max_features='auto', m...n_jobs=1,\n",
       "            oob_score=False, random_state=None, verbose=0,\n",
       "            warm_start=False))])"
      ]
     },
     "execution_count": 12,
     "metadata": {},
     "output_type": "execute_result"
    }
   ],
   "source": [
    "# fit the pipeline on training data\n",
    "pipeline_rf.fit(X_train, y_train.values.ravel())"
   ]
  },
  {
   "cell_type": "code",
   "execution_count": 13,
   "metadata": {
    "collapsed": false
   },
   "outputs": [
    {
     "name": "stdout",
     "output_type": "stream",
     "text": [
      "Accuracy on traun data  0.983333333333\n",
      "Accuracy on test data  0.966666666667\n"
     ]
    }
   ],
   "source": [
    "# get the score of the pipeline on training data\n",
    "\n",
    "print(\"Accuracy on traun data \", pipeline_rf.score(X_train, y_train))\n",
    "print(\"Accuracy on test data \",pipeline_rf.score(X_test, y_test))\n"
   ]
  },
  {
   "cell_type": "markdown",
   "metadata": {},
   "source": [
    "------------------------------\n",
    "    - Accuracy of pipeline based method on test data is much higher\n",
    "    - Why so?\n",
    "    - Let's check if final outputs are different\n",
    "--------------------------------    "
   ]
  },
  {
   "cell_type": "code",
   "execution_count": 14,
   "metadata": {
    "collapsed": true
   },
   "outputs": [],
   "source": [
    "y_test_pred_pipeline = pipeline_rf.predict(X_test)"
   ]
  },
  {
   "cell_type": "code",
   "execution_count": 15,
   "metadata": {
    "collapsed": false
   },
   "outputs": [
    {
     "data": {
      "text/plain": [
       "False"
      ]
     },
     "execution_count": 15,
     "metadata": {},
     "output_type": "execute_result"
    }
   ],
   "source": [
    "(y_test_pred == y_test_pred_pipeline).all()"
   ]
  },
  {
   "cell_type": "markdown",
   "metadata": {},
   "source": [
    "-------------------------------------\n",
    "\n",
    "    - Why are the answers different?\n",
    "\n",
    "----------------------------------------------\n",
    "    - Pipeline helps avoid easy and common mistakes which can happen due to time crunch\n",
    "    - Makes code \n",
    "        - more readable\n",
    "        - easy to debug\n",
    "        - change and experiment"
   ]
  },
  {
   "cell_type": "markdown",
   "metadata": {},
   "source": [
    "----------------------------------------------------------\n",
    "Pipeline\n",
    "    - combination of transformers, followed by an estimator\n",
    "    - 'n - 1' transfomer in 'n' step pipeline\n",
    "    -  n the step has to be an estimator\n",
    "------------------------------------------------\n"
   ]
  },
  {
   "cell_type": "markdown",
   "metadata": {},
   "source": [
    "------------------------------------------\n",
    "Tranformer:\n",
    "    - has two main methods\n",
    "        - fit(X, [y]) : Applies fit on X\n",
    "        - transform(X, [y]) : Applies transformation on X\n",
    "    - example: MinMaxScaler()\n",
    "    \n",
    "--------------------------------------------"
   ]
  },
  {
   "cell_type": "markdown",
   "metadata": {},
   "source": [
    "-------------------------------------\n",
    "Estimator:\n",
    "    - general term for sklearn object which makes prediction\n",
    "    - has two main methods\n",
    "        - fit(X,[y]) - fits the model on given X and y\n",
    "        - predict(X) - predicts (class or value) for given X\n",
    "    - example, RandomForestClassifier()\n",
    "\n",
    "----------------------------------------------------------------------"
   ]
  },
  {
   "cell_type": "markdown",
   "metadata": {
    "collapsed": true
   },
   "source": [
    "------------------------------------\n",
    "Pipeline, again\n",
    "    - pipeline.fit() - calls fit and transform on each step\n",
    "        * example, piepline_rf.fit() call hierarchy would be\n",
    "            - MinMaxScaler().fit_transform().PCA().fit_transform().RandomForestClassifier().fit()\n",
    "            \n",
    "---------------------------------------"
   ]
  },
  {
   "cell_type": "markdown",
   "metadata": {},
   "source": [
    "-------------------------------------------------------------------------\n",
    "    - pipeline.predict() - calss transform on each step followed by predict\n",
    "        * example, pipeline_rf.predict() calls hierarchy would be\n",
    "            - MinMaxScaler().transform().PCA().transform().RandomForestClassifier().predict()\n",
    "---------------------------------------------------------------\n",
    "\n",
    "\n"
   ]
  },
  {
   "cell_type": "markdown",
   "metadata": {},
   "source": [
    "--------------------------------------------------------------\n",
    "    - to create pipeline, steps are given as a list of tuples\n",
    "    - each tuple contains the name and class of tranformer followed by estimator\n",
    "        * example:: Pipeline([\n",
    "                            ('min_max_scaler', MinMaxScaler()),\n",
    "                            ('pca_based_feature_selection', PCA()),\n",
    "                            ('random_forest', RandomForestClassifier())\n",
    "                            ])\n",
    "---------------------------------------------------"
   ]
  },
  {
   "cell_type": "markdown",
   "metadata": {},
   "source": [
    "-----------------------------------------------------------------\n",
    "    - get the steps of all pipeline using piepline.steps\n",
    "        * example,"
   ]
  },
  {
   "cell_type": "code",
   "execution_count": 16,
   "metadata": {
    "collapsed": false
   },
   "outputs": [
    {
     "data": {
      "text/plain": [
       "[('min_max_scaler', MinMaxScaler(copy=True, feature_range=(0, 1))),\n",
       " ('pca_based_feature_selection',\n",
       "  PCA(copy=True, n_components=None, whiten=False)),\n",
       " ('random_forest',\n",
       "  RandomForestClassifier(bootstrap=True, class_weight=None, criterion='gini',\n",
       "              max_depth=None, max_features='auto', max_leaf_nodes=None,\n",
       "              min_samples_leaf=1, min_samples_split=2,\n",
       "              min_weight_fraction_leaf=0.0, n_estimators=10, n_jobs=1,\n",
       "              oob_score=False, random_state=None, verbose=0,\n",
       "              warm_start=False))]"
      ]
     },
     "execution_count": 16,
     "metadata": {},
     "output_type": "execute_result"
    }
   ],
   "source": [
    "pipeline_rf.steps"
   ]
  },
  {
   "cell_type": "markdown",
   "metadata": {
    "collapsed": true
   },
   "source": [
    "---------------------------------------------------------------------------------\n",
    "    - set piepline parameters using 'set_params'\n",
    "        * example,"
   ]
  },
  {
   "cell_type": "code",
   "execution_count": 17,
   "metadata": {
    "collapsed": false
   },
   "outputs": [
    {
     "data": {
      "text/plain": [
       "Pipeline(steps=[('min_max_scaler', MinMaxScaler(copy=True, feature_range=(0, 1))), ('pca_based_feature_selection', PCA(copy=True, n_components=2, whiten=False)), ('random_forest', RandomForestClassifier(bootstrap=True, class_weight=None, criterion='gini',\n",
       "            max_depth=None, max_features='auto', max_...n_jobs=1,\n",
       "            oob_score=False, random_state=None, verbose=0,\n",
       "            warm_start=False))])"
      ]
     },
     "execution_count": 17,
     "metadata": {},
     "output_type": "execute_result"
    }
   ],
   "source": [
    "pipeline_rf.set_params(pca_based_feature_selection__n_components=2)"
   ]
  },
  {
   "cell_type": "code",
   "execution_count": 18,
   "metadata": {
    "collapsed": false
   },
   "outputs": [
    {
     "data": {
      "text/plain": [
       "('pca_based_feature_selection', PCA(copy=True, n_components=2, whiten=False))"
      ]
     },
     "execution_count": 18,
     "metadata": {},
     "output_type": "execute_result"
    }
   ],
   "source": [
    "pipeline_rf.steps[1]"
   ]
  },
  {
   "cell_type": "markdown",
   "metadata": {},
   "source": [
    "-------------------------\n",
    "\n",
    "setting parameters of multiple steps"
   ]
  },
  {
   "cell_type": "code",
   "execution_count": 19,
   "metadata": {
    "collapsed": false
   },
   "outputs": [
    {
     "data": {
      "text/plain": [
       "Pipeline(steps=[('min_max_scaler', MinMaxScaler(copy=True, feature_range=(0, 1))), ('pca_based_feature_selection', PCA(copy=True, n_components=1, whiten=False)), ('random_forest', RandomForestClassifier(bootstrap=True, class_weight=None, criterion='gini',\n",
       "            max_depth=10, max_features=0.5, max_leaf_...n_jobs=1,\n",
       "            oob_score=False, random_state=None, verbose=0,\n",
       "            warm_start=False))])"
      ]
     },
     "execution_count": 19,
     "metadata": {},
     "output_type": "execute_result"
    }
   ],
   "source": [
    "#example, setting multiple parameters\n",
    "\n",
    "pipeline_rf.set_params(pca_based_feature_selection__n_components=1, \n",
    "                       random_forest__max_features=0.5, \n",
    "                       random_forest__max_depth=10)"
   ]
  },
  {
   "cell_type": "code",
   "execution_count": 20,
   "metadata": {
    "collapsed": false
   },
   "outputs": [
    {
     "data": {
      "text/plain": [
       "RandomForestClassifier(bootstrap=True, class_weight=None, criterion='gini',\n",
       "            max_depth=10, max_features=0.5, max_leaf_nodes=None,\n",
       "            min_samples_leaf=1, min_samples_split=2,\n",
       "            min_weight_fraction_leaf=0.0, n_estimators=10, n_jobs=1,\n",
       "            oob_score=False, random_state=None, verbose=0,\n",
       "            warm_start=False)"
      ]
     },
     "execution_count": 20,
     "metadata": {},
     "output_type": "execute_result"
    }
   ],
   "source": [
    "pipeline_rf.steps[2][1]"
   ]
  },
  {
   "cell_type": "code",
   "execution_count": 21,
   "metadata": {
    "collapsed": false
   },
   "outputs": [
    {
     "data": {
      "text/plain": [
       "PCA(copy=True, n_components=1, whiten=False)"
      ]
     },
     "execution_count": 21,
     "metadata": {},
     "output_type": "execute_result"
    }
   ],
   "source": [
    "pipeline_rf.steps[1][1]"
   ]
  },
  {
   "cell_type": "markdown",
   "metadata": {},
   "source": [
    "---------------------------------\n",
    "\n",
    "- let's check results with changed parameters"
   ]
  },
  {
   "cell_type": "code",
   "execution_count": 22,
   "metadata": {
    "collapsed": false
   },
   "outputs": [
    {
     "data": {
      "text/plain": [
       "0.96666666666666667"
      ]
     },
     "execution_count": 22,
     "metadata": {},
     "output_type": "execute_result"
    }
   ],
   "source": [
    "pipeline_rf.fit(X_train, y_train.values.ravel())\n",
    "\n",
    "pipeline_rf.score(X_test, y_test)"
   ]
  },
  {
   "cell_type": "markdown",
   "metadata": {},
   "source": [
    "---------------------------------------------------------------\n",
    "\n",
    "    - hyper-parameter optimization is super easy\n",
    "    - pipeline supports grid search of parameter in very elegant and easy to use manner\n",
    "        * example, \n",
    "--------------------------------------------------------------        "
   ]
  },
  {
   "cell_type": "code",
   "execution_count": 23,
   "metadata": {
    "collapsed": true
   },
   "outputs": [],
   "source": [
    "n_components =[ 1, 2]\n",
    "max_depth = [1, 10, 20, 30]\n",
    "max_features= [0.1, 0.2, 0.5 , 0.7]"
   ]
  },
  {
   "cell_type": "code",
   "execution_count": 24,
   "metadata": {
    "collapsed": true
   },
   "outputs": [],
   "source": [
    "param_grid ={\n",
    "    'pca_based_feature_selection__n_components': n_components,\n",
    "    'random_forest__max_features': max_features,\n",
    "    'random_forest__max_depth': max_depth\n",
    "}"
   ]
  },
  {
   "cell_type": "code",
   "execution_count": 25,
   "metadata": {
    "collapsed": true
   },
   "outputs": [],
   "source": [
    "from sklearn.grid_search import GridSearchCV"
   ]
  },
  {
   "cell_type": "markdown",
   "metadata": {},
   "source": [
    "---------------------------------------------------\n",
    "**GridSearchCV is part of sklearn.model_selection in v0.18**\n",
    "\n",
    "---------------------------------------------"
   ]
  },
  {
   "cell_type": "code",
   "execution_count": 26,
   "metadata": {
    "collapsed": false
   },
   "outputs": [],
   "source": [
    "grid = GridSearchCV(pipeline_rf, cv=3, n_jobs=2, param_grid=param_grid)"
   ]
  },
  {
   "cell_type": "code",
   "execution_count": 27,
   "metadata": {
    "collapsed": false
   },
   "outputs": [
    {
     "data": {
      "text/plain": [
       "GridSearchCV(cv=3, error_score='raise',\n",
       "       estimator=Pipeline(steps=[('min_max_scaler', MinMaxScaler(copy=True, feature_range=(0, 1))), ('pca_based_feature_selection', PCA(copy=True, n_components=1, whiten=False)), ('random_forest', RandomForestClassifier(bootstrap=True, class_weight=None, criterion='gini',\n",
       "            max_depth=10, max_features=0.5, max_leaf_...n_jobs=1,\n",
       "            oob_score=False, random_state=None, verbose=0,\n",
       "            warm_start=False))]),\n",
       "       fit_params={}, iid=True, n_jobs=2,\n",
       "       param_grid={'random_forest__max_features': [0.1, 0.2, 0.5, 0.7], 'pca_based_feature_selection__n_components': [1, 2], 'random_forest__max_depth': [1, 10, 20, 30]},\n",
       "       pre_dispatch='2*n_jobs', refit=True, scoring=None, verbose=0)"
      ]
     },
     "execution_count": 27,
     "metadata": {},
     "output_type": "execute_result"
    }
   ],
   "source": [
    "grid.fit(X_train, y_train.values.ravel())"
   ]
  },
  {
   "cell_type": "markdown",
   "metadata": {},
   "source": [
    "----------------------------"
   ]
  },
  {
   "cell_type": "code",
   "execution_count": 28,
   "metadata": {
    "collapsed": false
   },
   "outputs": [
    {
     "name": "stdout",
     "output_type": "stream",
     "text": [
      "total number of search:  32\n"
     ]
    }
   ],
   "source": [
    "print(\"total number of search: \", len(n_components)*len(max_depth)*len(max_features))"
   ]
  },
  {
   "cell_type": "code",
   "execution_count": 29,
   "metadata": {
    "collapsed": false
   },
   "outputs": [
    {
     "data": {
      "text/plain": [
       "32"
      ]
     },
     "execution_count": 29,
     "metadata": {},
     "output_type": "execute_result"
    }
   ],
   "source": [
    "len(grid.grid_scores_)"
   ]
  },
  {
   "cell_type": "markdown",
   "metadata": {},
   "source": [
    "-----------------------------------\n",
    "    - Actual total runs would be 32 * 3\n",
    "-------------------------------------"
   ]
  },
  {
   "cell_type": "code",
   "execution_count": 30,
   "metadata": {
    "collapsed": false,
    "scrolled": true
   },
   "outputs": [
    {
     "name": "stdout",
     "output_type": "stream",
     "text": [
      "Getting scores for all search\n"
     ]
    },
    {
     "data": {
      "text/plain": [
       "[mean: 0.82500, std: 0.10970, params: {'random_forest__max_features': 0.1, 'pca_based_feature_selection__n_components': 1, 'random_forest__max_depth': 1},\n",
       " mean: 0.77500, std: 0.14371, params: {'random_forest__max_features': 0.2, 'pca_based_feature_selection__n_components': 1, 'random_forest__max_depth': 1},\n",
       " mean: 0.66667, std: 0.00672, params: {'random_forest__max_features': 0.5, 'pca_based_feature_selection__n_components': 1, 'random_forest__max_depth': 1},\n",
       " mean: 0.94167, std: 0.03129, params: {'random_forest__max_features': 0.7, 'pca_based_feature_selection__n_components': 1, 'random_forest__max_depth': 1},\n",
       " mean: 0.88333, std: 0.04570, params: {'random_forest__max_features': 0.1, 'pca_based_feature_selection__n_components': 1, 'random_forest__max_depth': 10},\n",
       " mean: 0.88333, std: 0.04570, params: {'random_forest__max_features': 0.2, 'pca_based_feature_selection__n_components': 1, 'random_forest__max_depth': 10},\n",
       " mean: 0.89167, std: 0.04072, params: {'random_forest__max_features': 0.5, 'pca_based_feature_selection__n_components': 1, 'random_forest__max_depth': 10},\n",
       " mean: 0.88333, std: 0.04570, params: {'random_forest__max_features': 0.7, 'pca_based_feature_selection__n_components': 1, 'random_forest__max_depth': 10},\n",
       " mean: 0.87500, std: 0.05288, params: {'random_forest__max_features': 0.1, 'pca_based_feature_selection__n_components': 1, 'random_forest__max_depth': 20},\n",
       " mean: 0.87500, std: 0.05288, params: {'random_forest__max_features': 0.2, 'pca_based_feature_selection__n_components': 1, 'random_forest__max_depth': 20},\n",
       " mean: 0.87500, std: 0.05288, params: {'random_forest__max_features': 0.5, 'pca_based_feature_selection__n_components': 1, 'random_forest__max_depth': 20},\n",
       " mean: 0.88333, std: 0.04570, params: {'random_forest__max_features': 0.7, 'pca_based_feature_selection__n_components': 1, 'random_forest__max_depth': 20},\n",
       " mean: 0.89167, std: 0.04072, params: {'random_forest__max_features': 0.1, 'pca_based_feature_selection__n_components': 1, 'random_forest__max_depth': 30},\n",
       " mean: 0.89167, std: 0.04072, params: {'random_forest__max_features': 0.2, 'pca_based_feature_selection__n_components': 1, 'random_forest__max_depth': 30},\n",
       " mean: 0.88333, std: 0.04570, params: {'random_forest__max_features': 0.5, 'pca_based_feature_selection__n_components': 1, 'random_forest__max_depth': 30},\n",
       " mean: 0.88333, std: 0.04570, params: {'random_forest__max_features': 0.7, 'pca_based_feature_selection__n_components': 1, 'random_forest__max_depth': 30},\n",
       " mean: 0.85000, std: 0.09010, params: {'random_forest__max_features': 0.1, 'pca_based_feature_selection__n_components': 2, 'random_forest__max_depth': 1},\n",
       " mean: 0.78333, std: 0.06218, params: {'random_forest__max_features': 0.2, 'pca_based_feature_selection__n_components': 2, 'random_forest__max_depth': 1},\n",
       " mean: 0.80000, std: 0.07762, params: {'random_forest__max_features': 0.5, 'pca_based_feature_selection__n_components': 2, 'random_forest__max_depth': 1},\n",
       " mean: 0.80833, std: 0.08677, params: {'random_forest__max_features': 0.7, 'pca_based_feature_selection__n_components': 2, 'random_forest__max_depth': 1},\n",
       " mean: 0.93333, std: 0.03075, params: {'random_forest__max_features': 0.1, 'pca_based_feature_selection__n_components': 2, 'random_forest__max_depth': 10},\n",
       " mean: 0.90000, std: 0.04033, params: {'random_forest__max_features': 0.2, 'pca_based_feature_selection__n_components': 2, 'random_forest__max_depth': 10},\n",
       " mean: 0.90000, std: 0.05326, params: {'random_forest__max_features': 0.5, 'pca_based_feature_selection__n_components': 2, 'random_forest__max_depth': 10},\n",
       " mean: 0.89167, std: 0.03076, params: {'random_forest__max_features': 0.7, 'pca_based_feature_selection__n_components': 2, 'random_forest__max_depth': 10},\n",
       " mean: 0.88333, std: 0.04570, params: {'random_forest__max_features': 0.1, 'pca_based_feature_selection__n_components': 2, 'random_forest__max_depth': 20},\n",
       " mean: 0.91667, std: 0.03091, params: {'random_forest__max_features': 0.2, 'pca_based_feature_selection__n_components': 2, 'random_forest__max_depth': 20},\n",
       " mean: 0.92500, std: 0.03536, params: {'random_forest__max_features': 0.5, 'pca_based_feature_selection__n_components': 2, 'random_forest__max_depth': 20},\n",
       " mean: 0.91667, std: 0.03091, params: {'random_forest__max_features': 0.7, 'pca_based_feature_selection__n_components': 2, 'random_forest__max_depth': 20},\n",
       " mean: 0.93333, std: 0.04245, params: {'random_forest__max_features': 0.1, 'pca_based_feature_selection__n_components': 2, 'random_forest__max_depth': 30},\n",
       " mean: 0.90833, std: 0.04233, params: {'random_forest__max_features': 0.2, 'pca_based_feature_selection__n_components': 2, 'random_forest__max_depth': 30},\n",
       " mean: 0.93333, std: 0.03003, params: {'random_forest__max_features': 0.5, 'pca_based_feature_selection__n_components': 2, 'random_forest__max_depth': 30},\n",
       " mean: 0.93333, std: 0.03003, params: {'random_forest__max_features': 0.7, 'pca_based_feature_selection__n_components': 2, 'random_forest__max_depth': 30}]"
      ]
     },
     "execution_count": 30,
     "metadata": {},
     "output_type": "execute_result"
    }
   ],
   "source": [
    "print(\"Getting scores for all search\")\n",
    "grid.grid_scores_"
   ]
  },
  {
   "cell_type": "code",
   "execution_count": 31,
   "metadata": {
    "collapsed": false
   },
   "outputs": [
    {
     "name": "stdout",
     "output_type": "stream",
     "text": [
      "Best set of parameter is \n",
      " {'random_forest__max_features': 0.7, 'pca_based_feature_selection__n_components': 1, 'random_forest__max_depth': 1}\n"
     ]
    }
   ],
   "source": [
    "print(\"Best set of parameter is \\n\", grid.best_params_)"
   ]
  },
  {
   "cell_type": "markdown",
   "metadata": {},
   "source": [
    "----------------------------------------------\n",
    "    - make_pipeline is shorthand for pipeline\n",
    "        * example,"
   ]
  },
  {
   "cell_type": "code",
   "execution_count": 32,
   "metadata": {
    "collapsed": false
   },
   "outputs": [
    {
     "data": {
      "text/plain": [
       "Pipeline(steps=[('minmaxscaler', MinMaxScaler(copy=True, feature_range=(0, 1))), ('pca', PCA(copy=True, n_components=None, whiten=False)), ('randomforestclassifier', RandomForestClassifier(bootstrap=True, class_weight=None, criterion='gini',\n",
       "            max_depth=None, max_features='auto', max_leaf_nodes=Non...timators=10, n_jobs=1,\n",
       "            oob_score=False, random_state=100, verbose=0, warm_start=False))])"
      ]
     },
     "execution_count": 32,
     "metadata": {},
     "output_type": "execute_result"
    }
   ],
   "source": [
    "make_pipeline(MinMaxScaler(), PCA(), RandomForestClassifier(random_state=100))"
   ]
  },
  {
   "cell_type": "markdown",
   "metadata": {},
   "source": [
    "    - name of each step is name of the transformer and estimator in lower case, without any special character in between\n",
    "    - easier to use, create and remember \n",
    "        - easy to forget the names which we give to each step\n",
    " -------------------------------------------------------------------------------"
   ]
  },
  {
   "cell_type": "code",
   "execution_count": 33,
   "metadata": {
    "collapsed": true
   },
   "outputs": [],
   "source": [
    "from sklearn.pipeline import FeatureUnion"
   ]
  },
  {
   "cell_type": "code",
   "execution_count": 34,
   "metadata": {
    "collapsed": true
   },
   "outputs": [],
   "source": [
    "from sklearn.base import TransformerMixin, BaseEstimator\n"
   ]
  },
  {
   "cell_type": "code",
   "execution_count": 35,
   "metadata": {
    "collapsed": true
   },
   "outputs": [],
   "source": [
    "class FactorExtractor( BaseEstimator, TransformerMixin):\n",
    "    \n",
    "    def __init__(self, factor=None):\n",
    "        self.factor = factor\n",
    "    \n",
    "    def fit(self,df,y=None ):\n",
    "        return self\n",
    "    \n",
    "    def transform(self, df, y=None):\n",
    "        if isinstance(self.factor, list):\n",
    "            return df[self.factor].values\n",
    "        return df[self.factor].values.reshape(-1,1)"
   ]
  },
  {
   "cell_type": "code",
   "execution_count": 36,
   "metadata": {
    "collapsed": false
   },
   "outputs": [],
   "source": [
    "fe = FactorExtractor('sepal_length')"
   ]
  },
  {
   "cell_type": "code",
   "execution_count": 37,
   "metadata": {
    "collapsed": false
   },
   "outputs": [
    {
     "data": {
      "text/plain": [
       "True"
      ]
     },
     "execution_count": 37,
     "metadata": {},
     "output_type": "execute_result"
    }
   ],
   "source": [
    "(fe.fit_transform(X).ravel() == X['sepal_length']).all()"
   ]
  },
  {
   "cell_type": "code",
   "execution_count": 38,
   "metadata": {
    "collapsed": false
   },
   "outputs": [],
   "source": [
    "fu = FeatureUnion(\n",
    "    [('step1',FactorExtractor('sepal_length')),\n",
    "    ('step2', FactorExtractor('sepal_width'))\n",
    "    ])"
   ]
  },
  {
   "cell_type": "code",
   "execution_count": 39,
   "metadata": {
    "collapsed": false
   },
   "outputs": [],
   "source": [
    "val = fu.fit_transform(X)"
   ]
  },
  {
   "cell_type": "code",
   "execution_count": 40,
   "metadata": {
    "collapsed": false
   },
   "outputs": [
    {
     "data": {
      "text/plain": [
       "(150L, 2L)"
      ]
     },
     "execution_count": 40,
     "metadata": {},
     "output_type": "execute_result"
    }
   ],
   "source": [
    "val.shape"
   ]
  },
  {
   "cell_type": "markdown",
   "metadata": {},
   "source": [
    "--------------------------------\n",
    "    - FeatureUnion() gives all values in a vector, we need to extract it\n",
    "---------------\n",
    "\n",
    "    - So, we need to extract the values from val\n",
    "-----------------------------"
   ]
  },
  {
   "cell_type": "code",
   "execution_count": 41,
   "metadata": {
    "collapsed": false
   },
   "outputs": [
    {
     "name": "stdout",
     "output_type": "stream",
     "text": [
      "Is first 150 value of val similar to sepal length::  True\n",
      "Is last 150 value of val similar to sepal width::  True\n"
     ]
    }
   ],
   "source": [
    "print(\"Is first 150 value of val similar to sepal length:: \", (val[:,0] == X.sepal_length).all())\n",
    "\n",
    "print(\"Is last 150 value of val similar to sepal width:: \", (val[:, 1] == X.sepal_width).all())"
   ]
  },
  {
   "cell_type": "code",
   "execution_count": 42,
   "metadata": {
    "collapsed": true
   },
   "outputs": [],
   "source": [
    "def make_feature_union_df(steps, df):\n",
    "    fu = FeatureUnion(steps)\n",
    "    val = fu.fit_transform(df)\n",
    "\n",
    "    column_name = []\n",
    "    count = 0\n",
    "    for st in steps:\n",
    "        column_name.append(st[1].get_params().values()[0])\n",
    "        count +=1\n",
    "    df_transformed = pd.DataFrame(columns=column_name)\n",
    "    length = int(val.shape[0]/count)\n",
    "    \n",
    "    for i in range(count):\n",
    "        df_transformed.loc[:,column_name[i]] = val[:,i]\n",
    "    return df_transformed\n",
    "        \n",
    "                            \n",
    "    "
   ]
  },
  {
   "cell_type": "code",
   "execution_count": 43,
   "metadata": {
    "collapsed": false
   },
   "outputs": [
    {
     "data": {
      "text/html": [
       "<div>\n",
       "<table border=\"1\" class=\"dataframe\">\n",
       "  <thead>\n",
       "    <tr style=\"text-align: right;\">\n",
       "      <th></th>\n",
       "      <th>sepal_length</th>\n",
       "      <th>sepal_width</th>\n",
       "    </tr>\n",
       "  </thead>\n",
       "  <tbody>\n",
       "    <tr>\n",
       "      <th>0</th>\n",
       "      <td>5.1</td>\n",
       "      <td>3.5</td>\n",
       "    </tr>\n",
       "    <tr>\n",
       "      <th>1</th>\n",
       "      <td>4.9</td>\n",
       "      <td>3.0</td>\n",
       "    </tr>\n",
       "    <tr>\n",
       "      <th>2</th>\n",
       "      <td>4.7</td>\n",
       "      <td>3.2</td>\n",
       "    </tr>\n",
       "  </tbody>\n",
       "</table>\n",
       "</div>"
      ],
      "text/plain": [
       "   sepal_length  sepal_width\n",
       "0           5.1          3.5\n",
       "1           4.9          3.0\n",
       "2           4.7          3.2"
      ]
     },
     "execution_count": 43,
     "metadata": {},
     "output_type": "execute_result"
    }
   ],
   "source": [
    "steps = [('step1',FactorExtractor('sepal_length')),\n",
    "    ('step2', FactorExtractor('sepal_width'))]\n",
    "\n",
    "make_feature_union_df(steps, X).head(3)"
   ]
  },
  {
   "cell_type": "code",
   "execution_count": 44,
   "metadata": {
    "collapsed": false
   },
   "outputs": [
    {
     "data": {
      "text/plain": [
       "True"
      ]
     },
     "execution_count": 44,
     "metadata": {},
     "output_type": "execute_result"
    }
   ],
   "source": [
    "make_feature_union_df(steps, X).equals( X[['sepal_length', 'sepal_width']])"
   ]
  },
  {
   "cell_type": "markdown",
   "metadata": {},
   "source": [
    "-----------------------------------------------------\n",
    "Putting it all together to make final pipeline\n",
    "    - in final pipeline, we want to use only two features out of 4, which are sepal length and sepal width\n",
    "------------------------------------------------"
   ]
  },
  {
   "cell_type": "code",
   "execution_count": 45,
   "metadata": {
    "collapsed": true
   },
   "outputs": [],
   "source": [
    "fu = FeatureUnion(\n",
    "    [('step1',FactorExtractor('sepal_length')),\n",
    "    ('step2', FactorExtractor('sepal_width'))])"
   ]
  },
  {
   "cell_type": "code",
   "execution_count": 46,
   "metadata": {
    "collapsed": true
   },
   "outputs": [],
   "source": [
    "pipeline_with_two_features = Pipeline(\n",
    "    [\n",
    "        ('feature_union', fu),\n",
    "        ('min_max', MinMaxScaler()),\n",
    "        ('pca', PCA()),\n",
    "        ('random_forest', RandomForestClassifier(random_state=100))\n",
    "    ])"
   ]
  },
  {
   "cell_type": "code",
   "execution_count": 47,
   "metadata": {
    "collapsed": false
   },
   "outputs": [
    {
     "data": {
      "text/plain": [
       "Pipeline(steps=[('feature_union', FeatureUnion(n_jobs=1,\n",
       "       transformer_list=[('step1', FactorExtractor(factor='sepal_length')), ('step2', FactorExtractor(factor='sepal_width'))],\n",
       "       transformer_weights=None)), ('min_max', MinMaxScaler(copy=True, feature_range=(0, 1))), ('pca', PCA(copy=True, n_compo...timators=10, n_jobs=1,\n",
       "            oob_score=False, random_state=100, verbose=0, warm_start=False))])"
      ]
     },
     "execution_count": 47,
     "metadata": {},
     "output_type": "execute_result"
    }
   ],
   "source": [
    "pipeline_with_two_features.fit(X_train, y_train.values.ravel())"
   ]
  },
  {
   "cell_type": "code",
   "execution_count": 48,
   "metadata": {
    "collapsed": false
   },
   "outputs": [
    {
     "name": "stdout",
     "output_type": "stream",
     "text": [
      "Train set accuracy with  0.925\n",
      "Test set accuracy with  0.866666666667\n"
     ]
    }
   ],
   "source": [
    "\n",
    "print(\"Train set accuracy with \",\n",
    "      pipeline_with_two_features.score(X_train, y_train.values.ravel()))\n",
    "\n",
    "print(\"Test set accuracy with \",\n",
    "      pipeline_with_two_features.score(X_test, y_test.values.ravel()))"
   ]
  },
  {
   "cell_type": "markdown",
   "metadata": {},
   "source": [
    "-------------------------------------------------------------\n",
    "pipeline with features as parameters\n",
    "--------------------------------------------------------------"
   ]
  },
  {
   "cell_type": "code",
   "execution_count": 49,
   "metadata": {
    "collapsed": false
   },
   "outputs": [],
   "source": [
    "pipeline_with_feature_as_parameter = make_pipeline(\n",
    "        FactorExtractor(),\n",
    "        MinMaxScaler(),\n",
    "        PCA(),\n",
    "        RandomForestClassifier(random_state=100)\n",
    ")"
   ]
  },
  {
   "cell_type": "code",
   "execution_count": 50,
   "metadata": {
    "collapsed": false
   },
   "outputs": [
    {
     "data": {
      "text/plain": [
       "Pipeline(steps=[('factorextractor', FactorExtractor(factor=None)), ('minmaxscaler', MinMaxScaler(copy=True, feature_range=(0, 1))), ('pca', PCA(copy=True, n_components=None, whiten=False)), ('randomforestclassifier', RandomForestClassifier(bootstrap=True, class_weight=None, criterion='gini',\n",
       "            max_...timators=10, n_jobs=1,\n",
       "            oob_score=False, random_state=100, verbose=0, warm_start=False))])"
      ]
     },
     "execution_count": 50,
     "metadata": {},
     "output_type": "execute_result"
    }
   ],
   "source": [
    "pipeline_with_feature_as_parameter"
   ]
  },
  {
   "cell_type": "code",
   "execution_count": 51,
   "metadata": {
    "collapsed": true
   },
   "outputs": [],
   "source": [
    "factor= [['sepal_length', 'sepal_width'], \n",
    "         ['sepal_length', 'sepal_width', 'petal_length'],\n",
    "         ['sepal_length', 'sepal_width', 'petal_length', 'petal_width'],]"
   ]
  },
  {
   "cell_type": "code",
   "execution_count": 52,
   "metadata": {
    "collapsed": false
   },
   "outputs": [],
   "source": [
    "param_grid_feature ={\n",
    "    'factorextractor__factor':factor,\n",
    "    'pca__n_components': n_components,\n",
    "    'randomforestclassifier__max_features': max_features,\n",
    "    'randomforestclassifier__max_depth': max_depth\n",
    "}"
   ]
  },
  {
   "cell_type": "code",
   "execution_count": null,
   "metadata": {
    "collapsed": true
   },
   "outputs": [],
   "source": [
    "grid_with_feature_as_parameter = GridSearchCV(\n",
    "    pipeline_with_feature_as_parameter, \n",
    "    cv=3, \n",
    "    n_jobs=2, \n",
    "    param_grid=param_grid_feature\n",
    ")"
   ]
  },
  {
   "cell_type": "code",
   "execution_count": null,
   "metadata": {
    "collapsed": false
   },
   "outputs": [],
   "source": [
    "grid_with_feature_as_parameter.fit(X_train, y_train.values.ravel())"
   ]
  },
  {
   "cell_type": "code",
   "execution_count": null,
   "metadata": {
    "collapsed": false
   },
   "outputs": [],
   "source": [
    "grid_with_feature_as_parameter.best_params_"
   ]
  },
  {
   "cell_type": "code",
   "execution_count": null,
   "metadata": {
    "collapsed": false
   },
   "outputs": [],
   "source": [
    "print(\"Train error on best set of hyper-parameters \", \n",
    "      grid_with_feature_as_parameter.score(X_train, y_train.values.ravel()))\n",
    "\n",
    "print(\"Test error on best set of hyper-parameters \", \n",
    "      grid_with_feature_as_parameter.score(X_test, y_test.values.ravel()))"
   ]
  },
  {
   "cell_type": "markdown",
   "metadata": {},
   "source": [
    "----------------------------------------------------------\n",
    "    - Using pipeline we can perform selection of feature as well\n",
    "    \n",
    "    - Pipeline can be used to write intergration test, so as to evaluate that entire pipeline is working properly (Not covered here)\n",
    "    \n",
    "    \n",
    "    ** This all about development **\n",
    "-------------------------------------------------------------"
   ]
  },
  {
   "cell_type": "markdown",
   "metadata": {},
   "source": [
    "-------------------------------------------------------------\n",
    "    - Now let's look at deployment\n",
    "        - We know the best Pipeline Parameters\n",
    "        - Train final pipeline with this best parameters learnt from GridSearchCV() \n",
    "-------------------------------------------------------------    "
   ]
  },
  {
   "cell_type": "markdown",
   "metadata": {},
   "source": [
    "    - set parameters for final pipeline\n",
    "    - use the best parameters learned from GridSearchCV()\n",
    " -----------------------------------------------------------------"
   ]
  },
  {
   "cell_type": "code",
   "execution_count": null,
   "metadata": {
    "collapsed": false
   },
   "outputs": [],
   "source": [
    "pipeline_with_feature_as_parameter.set_params(**grid_with_feature_as_parameter.best_params_)"
   ]
  },
  {
   "cell_type": "markdown",
   "metadata": {},
   "source": [
    "------------------------------------\n",
    "    - train the final pipeline\n",
    " ----------------------------------"
   ]
  },
  {
   "cell_type": "code",
   "execution_count": null,
   "metadata": {
    "collapsed": false
   },
   "outputs": [],
   "source": [
    "pipeline_with_feature_as_parameter.fit(X_train, y_train.values.ravel())"
   ]
  },
  {
   "cell_type": "markdown",
   "metadata": {},
   "source": [
    "----------------------------------\n",
    "    - Predict on train and test data to see if we are getting similar error numbers as that of GridSearchCV()\n",
    "-----------------------------------"
   ]
  },
  {
   "cell_type": "code",
   "execution_count": null,
   "metadata": {
    "collapsed": false
   },
   "outputs": [],
   "source": [
    "print(\"Train error on best set of hyper-parameters \", \n",
    "      pipeline_with_feature_as_parameter.score(X_train, y_train.values.ravel()))\n",
    "\n",
    "print(\"Test error on best set of hyper-parameters \", \n",
    "      pipeline_with_feature_as_parameter.score(X_test, y_test.values.ravel()))"
   ]
  },
  {
   "cell_type": "markdown",
   "metadata": {},
   "source": [
    "---------------------------------------------------\n",
    "    - Error on train and test is same as that of GridSearchCV()\n",
    "---------------------------------------------------\n",
    "\n",
    "    - Now this trained model can be dumped for the deployement\n",
    "---------------------------------------------------"
   ]
  },
  {
   "cell_type": "code",
   "execution_count": null,
   "metadata": {
    "collapsed": true
   },
   "outputs": [],
   "source": [
    "import joblib"
   ]
  },
  {
   "cell_type": "code",
   "execution_count": null,
   "metadata": {
    "collapsed": false
   },
   "outputs": [],
   "source": [
    "joblib.dump(pipeline_with_feature_as_parameter, '/home/pawan/pipeline_with_feature_as_parameter.pkl')"
   ]
  },
  {
   "cell_type": "markdown",
   "metadata": {},
   "source": [
    "---------------------------------------------------\n",
    "\n",
    "    - load the dumped model\n",
    "------------------------------------------"
   ]
  },
  {
   "cell_type": "code",
   "execution_count": null,
   "metadata": {
    "collapsed": true
   },
   "outputs": [],
   "source": [
    "model = joblib.load('/home/pawan/pipeline_with_feature_as_parameter.pkl')"
   ]
  },
  {
   "cell_type": "code",
   "execution_count": null,
   "metadata": {
    "collapsed": false
   },
   "outputs": [],
   "source": [
    "model.steps"
   ]
  },
  {
   "cell_type": "code",
   "execution_count": null,
   "metadata": {
    "collapsed": false
   },
   "outputs": [],
   "source": [
    "print(\"Train error on best set of hyper-parameters \", \n",
    "      model.score(X_train, y_train.values.ravel()))\n",
    "\n",
    "print(\"Test error on best set of hyper-parameters \", \n",
    "      model.score(X_test, y_test.values.ravel()))"
   ]
  },
  {
   "cell_type": "code",
   "execution_count": null,
   "metadata": {
    "collapsed": false
   },
   "outputs": [],
   "source": [
    "print(\"Error on best set of hyper-parameters for complete dataset \", \n",
    "      pipeline_with_feature_as_parameter.score(X, Y.values.ravel()))\n"
   ]
  },
  {
   "cell_type": "markdown",
   "metadata": {},
   "source": [
    "----------------------------------------------------------------------------------------"
   ]
  },
  {
   "cell_type": "markdown",
   "metadata": {},
   "source": [
    "** Thanks You!!"
   ]
  }
 ],
 "metadata": {
  "anaconda-cloud": {},
  "kernelspec": {
   "display_name": "Python 2",
   "language": "python",
   "name": "python2"
  },
  "language_info": {
   "codemirror_mode": {
    "name": "ipython",
    "version": 2
   },
   "file_extension": ".py",
   "mimetype": "text/x-python",
   "name": "python",
   "nbconvert_exporter": "python",
   "pygments_lexer": "ipython2",
   "version": "2.7.11"
  },
  "nbpresent": {
   "slides": {
    "0c1feb4d-e8fb-4ff9-aede-cec0f06d397d": {
     "id": "0c1feb4d-e8fb-4ff9-aede-cec0f06d397d",
     "prev": "c98162ac-4023-45d3-a3ba-01e522aa3fca",
     "regions": {
      "38cfc767-4ec4-4b7a-b6dd-54ed48f42d7d": {
       "attrs": {
        "height": 1,
        "width": 1,
        "x": 0,
        "y": 0
       },
       "content": {
        "cell": "2e741cf0-7775-48d4-8228-d7e6f930c575",
        "part": "source"
       },
       "id": "38cfc767-4ec4-4b7a-b6dd-54ed48f42d7d"
      }
     }
    },
    "24fb67e2-81f0-4a53-b926-e41140a46d28": {
     "id": "24fb67e2-81f0-4a53-b926-e41140a46d28",
     "prev": "ebce5c4e-c46f-4b89-8bfd-bfc60dcfb75c",
     "regions": {
      "33ebde4f-5dc8-4ee3-bf5d-f9dd3b3052ce": {
       "attrs": {
        "height": 1,
        "width": 1,
        "x": 0.000980776798690414,
        "y": 0
       },
       "content": {
        "cell": "1a1c8ced-070b-4f5a-9261-882d3dc919eb",
        "part": "source"
       },
       "id": "33ebde4f-5dc8-4ee3-bf5d-f9dd3b3052ce"
      }
     }
    },
    "396f9547-62b2-41d2-998b-2786526c0923": {
     "id": "396f9547-62b2-41d2-998b-2786526c0923",
     "prev": "b00df452-7894-4e57-acc4-18f48e2143fd",
     "regions": {
      "2d3f3c5b-012e-445f-a8f6-338efac846da": {
       "attrs": {
        "height": 1,
        "width": 1,
        "x": 0,
        "y": 0
       },
       "content": {
        "cell": "7d68096c-3050-4f5d-87e4-e4e9bcddd7bf",
        "part": "whole"
       },
       "id": "2d3f3c5b-012e-445f-a8f6-338efac846da"
      }
     }
    },
    "41202e6a-5b3e-4ef0-b453-04002ae14745": {
     "id": "41202e6a-5b3e-4ef0-b453-04002ae14745",
     "prev": "0c1feb4d-e8fb-4ff9-aede-cec0f06d397d",
     "regions": {
      "3c8931b3-8204-47fb-a8fd-dbb9c2c964da": {
       "attrs": {
        "height": 1,
        "width": 1,
        "x": 0,
        "y": 0
       },
       "content": {
        "cell": "403c7a67-cc5b-4fad-9de1-e951f3ec3010",
        "part": "source"
       },
       "id": "3c8931b3-8204-47fb-a8fd-dbb9c2c964da"
      }
     }
    },
    "47037d7e-9dd5-451d-950e-0cc8cdfdc8f5": {
     "id": "47037d7e-9dd5-451d-950e-0cc8cdfdc8f5",
     "prev": "396f9547-62b2-41d2-998b-2786526c0923",
     "regions": {
      "77d3b5fd-5534-4551-8d0d-34204f9ba32d": {
       "attrs": {
        "height": 1,
        "width": 1,
        "x": 0,
        "y": 0
       },
       "content": {
        "cell": "5f76d8bb-5e60-4a1e-b45e-a98412b04e65",
        "part": "whole"
       },
       "id": "77d3b5fd-5534-4551-8d0d-34204f9ba32d"
      }
     }
    },
    "5191b3a3-60a6-499d-ac0e-e283c3a48c38": {
     "id": "5191b3a3-60a6-499d-ac0e-e283c3a48c38",
     "prev": "ad06121a-3ddc-426d-bd2e-f3d2112cfff8",
     "regions": {
      "3468c359-d092-45e1-9066-2d87ed3cb3ed": {
       "attrs": {
        "height": 1,
        "width": 1,
        "x": 0,
        "y": 0
       },
       "id": "3468c359-d092-45e1-9066-2d87ed3cb3ed"
      }
     }
    },
    "ad06121a-3ddc-426d-bd2e-f3d2112cfff8": {
     "id": "ad06121a-3ddc-426d-bd2e-f3d2112cfff8",
     "prev": "47037d7e-9dd5-451d-950e-0cc8cdfdc8f5",
     "regions": {
      "04ef21c8-5770-421b-9c86-b62ccb724445": {
       "attrs": {
        "height": 1,
        "width": 1,
        "x": 0,
        "y": 0
       },
       "content": {
        "cell": "b02f3cdf-b215-456a-9f20-b5c656f2d894",
        "part": "whole"
       },
       "id": "04ef21c8-5770-421b-9c86-b62ccb724445"
      }
     }
    },
    "b00df452-7894-4e57-acc4-18f48e2143fd": {
     "id": "b00df452-7894-4e57-acc4-18f48e2143fd",
     "prev": "eea3a516-ea6b-4348-aa6a-132504e4feac",
     "regions": {
      "70a12faa-ed33-4b7e-9e9b-0efe8037ea7a": {
       "attrs": {
        "height": 1.1000000000000003,
        "width": 1,
        "x": -0.20000000000000007,
        "y": 5
       },
       "content": {
        "cell": "60506fdb-e9c2-4bd6-87a4-37cf38017744",
        "part": "whole"
       },
       "id": "70a12faa-ed33-4b7e-9e9b-0efe8037ea7a"
      }
     }
    },
    "c98162ac-4023-45d3-a3ba-01e522aa3fca": {
     "id": "c98162ac-4023-45d3-a3ba-01e522aa3fca",
     "layout": "grid",
     "prev": null,
     "regions": {
      "b2d4342c-1f10-4d24-868a-e4ffa88621fb": {
       "attrs": {
        "height": 0.8333333333333334,
        "pad": 0.01,
        "width": 0.8333333333333334,
        "x": 0.08333333333333333,
        "y": 0.08333333333333333
       },
       "content": {
        "cell": "29667604-b046-4027-b9c0-2f8a7b702984",
        "part": "source"
       },
       "id": "b2d4342c-1f10-4d24-868a-e4ffa88621fb"
      },
      "e001ac56-1c3d-446d-9769-ef6f98e84026": {
       "attrs": {
        "height": 1,
        "pad": 0.01,
        "width": 1,
        "x": 0,
        "y": 0
       },
       "content": {
        "cell": "29667604-b046-4027-b9c0-2f8a7b702984",
        "part": "source"
       },
       "id": "e001ac56-1c3d-446d-9769-ef6f98e84026"
      }
     }
    },
    "ebce5c4e-c46f-4b89-8bfd-bfc60dcfb75c": {
     "id": "ebce5c4e-c46f-4b89-8bfd-bfc60dcfb75c",
     "prev": "41202e6a-5b3e-4ef0-b453-04002ae14745",
     "regions": {
      "7b0ab910-bb4c-489e-989e-b2e9461f2ca2": {
       "attrs": {
        "height": 1,
        "width": 1,
        "x": 0,
        "y": 0
       },
       "content": {
        "cell": "721d1c43-9d82-4128-a043-ae3b550d229c",
        "part": "source"
       },
       "id": "7b0ab910-bb4c-489e-989e-b2e9461f2ca2"
      }
     }
    },
    "eea3a516-ea6b-4348-aa6a-132504e4feac": {
     "id": "eea3a516-ea6b-4348-aa6a-132504e4feac",
     "prev": "24fb67e2-81f0-4a53-b926-e41140a46d28",
     "regions": {
      "f0c6dde1-8d7b-4f57-901c-e6880460e681": {
       "attrs": {
        "height": 1,
        "width": 1,
        "x": 0,
        "y": 0
       },
       "content": {
        "cell": "9c58e406-ede1-4e31-af4f-ec7c843e97aa",
        "part": "whole"
       },
       "id": "f0c6dde1-8d7b-4f57-901c-e6880460e681"
      }
     }
    }
   },
   "themes": {
    "default": "2216c4fb-bb80-4235-8cb3-d31521dbf74d",
    "theme": {
     "2216c4fb-bb80-4235-8cb3-d31521dbf74d": {
      "backgrounds": {
       "backgroundColor": {
        "background-color": "backgroundColor",
        "id": "backgroundColor"
       }
      },
      "id": "2216c4fb-bb80-4235-8cb3-d31521dbf74d",
      "palette": {
       "backgroundColor": {
        "id": "backgroundColor",
        "rgb": [
         247,
         251,
         252
        ]
       },
       "headingColor": {
        "id": "headingColor",
        "rgb": [
         51,
         51,
         51
        ]
       },
       "linkColor": {
        "id": "linkColor",
        "rgb": [
         59,
         117,
         158
        ]
       },
       "mainColor": {
        "id": "mainColor",
        "rgb": [
         51,
         51,
         51
        ]
       }
      },
      "rules": {
       "a": {
        "color": "linkColor"
       },
       "h1": {
        "color": "headingColor",
        "font-family": "Quicksand",
        "font-size": 7
       },
       "h2": {
        "color": "headingColor",
        "font-family": "Quicksand",
        "font-size": 5
       },
       "h3": {
        "color": "headingColor",
        "font-family": "Quicksand",
        "font-size": 3.75
       },
       "h4": {
        "color": "headingColor",
        "font-family": "Quicksand",
        "font-size": 3
       },
       "h5": {
        "color": "headingColor",
        "font-family": "Quicksand"
       },
       "h6": {
        "color": "headingColor",
        "font-family": "Quicksand"
       },
       "h7": {
        "color": "headingColor",
        "font-family": "Quicksand"
       },
       "li": {
        "color": "mainColor",
        "font-family": "Open Sans",
        "font-size": 5
       },
       "p": {
        "color": "mainColor",
        "font-family": "Open Sans",
        "font-size": 5
       }
      },
      "text-base": {
       "color": "mainColor",
       "font-family": "Open Sans",
       "font-size": 5
      }
     },
     "4104442c-4f23-4016-a369-277d1ba06086": {
      "backgrounds": {
       "backgroundColor": {
        "background-color": "backgroundColor",
        "id": "backgroundColor"
       }
      },
      "id": "4104442c-4f23-4016-a369-277d1ba06086",
      "palette": {
       "backgroundColor": {
        "id": "backgroundColor",
        "rgb": [
         247,
         251,
         252
        ]
       },
       "headingColor": {
        "id": "headingColor",
        "rgb": [
         51,
         51,
         51
        ]
       },
       "linkColor": {
        "id": "linkColor",
        "rgb": [
         59,
         117,
         158
        ]
       },
       "mainColor": {
        "id": "mainColor",
        "rgb": [
         51,
         51,
         51
        ]
       }
      },
      "rules": {
       "a": {
        "color": "linkColor"
       },
       "h1": {
        "color": "headingColor",
        "font-family": "Quicksand",
        "font-size": 7
       },
       "h2": {
        "color": "headingColor",
        "font-family": "Quicksand",
        "font-size": 5
       },
       "h3": {
        "color": "headingColor",
        "font-family": "Quicksand",
        "font-size": 3.75
       },
       "h4": {
        "color": "headingColor",
        "font-family": "Quicksand",
        "font-size": 3
       },
       "h5": {
        "color": "headingColor",
        "font-family": "Quicksand"
       },
       "h6": {
        "color": "headingColor",
        "font-family": "Quicksand"
       },
       "h7": {
        "color": "headingColor",
        "font-family": "Quicksand"
       },
       "li": {
        "color": "mainColor",
        "font-family": "Open Sans",
        "font-size": 5
       },
       "p": {
        "color": "mainColor",
        "font-family": "Open Sans",
        "font-size": 5
       }
      },
      "text-base": {
       "color": "mainColor",
       "font-family": "Open Sans",
       "font-size": 5
      }
     },
     "7369db42-229c-4d82-94a2-6c05997fb8da": {
      "id": "7369db42-229c-4d82-94a2-6c05997fb8da",
      "palette": {
       "19cc588f-0593-49c9-9f4b-e4d7cc113b1c": {
        "id": "19cc588f-0593-49c9-9f4b-e4d7cc113b1c",
        "rgb": [
         252,
         252,
         252
        ]
       },
       "31af15d2-7e15-44c5-ab5e-e04b16a89eff": {
        "id": "31af15d2-7e15-44c5-ab5e-e04b16a89eff",
        "rgb": [
         68,
         68,
         68
        ]
       },
       "50f92c45-a630-455b-aec3-788680ec7410": {
        "id": "50f92c45-a630-455b-aec3-788680ec7410",
        "rgb": [
         155,
         177,
         192
        ]
       },
       "c5cc3653-2ee1-402a-aba2-7caae1da4f6c": {
        "id": "c5cc3653-2ee1-402a-aba2-7caae1da4f6c",
        "rgb": [
         43,
         126,
         184
        ]
       },
       "efa7f048-9acb-414c-8b04-a26811511a21": {
        "id": "efa7f048-9acb-414c-8b04-a26811511a21",
        "rgb": [
         25.118061674008803,
         73.60176211453744,
         107.4819383259912
        ]
       }
      },
      "rules": {
       "blockquote": {
        "color": "50f92c45-a630-455b-aec3-788680ec7410"
       },
       "code": {
        "font-family": "Anonymous Pro"
       },
       "h1": {
        "color": "c5cc3653-2ee1-402a-aba2-7caae1da4f6c",
        "font-family": "Lato",
        "font-size": 8
       },
       "h2": {
        "color": "c5cc3653-2ee1-402a-aba2-7caae1da4f6c",
        "font-family": "Lato",
        "font-size": 6
       },
       "h3": {
        "color": "50f92c45-a630-455b-aec3-788680ec7410",
        "font-family": "Lato",
        "font-size": 5.5
       },
       "h4": {
        "color": "c5cc3653-2ee1-402a-aba2-7caae1da4f6c",
        "font-family": "Lato",
        "font-size": 5
       },
       "h5": {
        "font-family": "Lato"
       },
       "h6": {
        "font-family": "Lato"
       },
       "h7": {
        "font-family": "Lato"
       },
       "pre": {
        "font-family": "Anonymous Pro",
        "font-size": 4
       }
      },
      "text-base": {
       "font-family": "Merriweather",
       "font-size": 4
      }
     },
     "b7b7484b-c5f6-41b1-bf99-9cccb198c8ec": {
      "backgrounds": {
       "dc7afa04-bf90-40b1-82a5-726e3cff5267": {
        "background-color": "31af15d2-7e15-44c5-ab5e-e04b16a89eff",
        "id": "dc7afa04-bf90-40b1-82a5-726e3cff5267"
       }
      },
      "id": "b7b7484b-c5f6-41b1-bf99-9cccb198c8ec",
      "palette": {
       "19cc588f-0593-49c9-9f4b-e4d7cc113b1c": {
        "id": "19cc588f-0593-49c9-9f4b-e4d7cc113b1c",
        "rgb": [
         252,
         252,
         252
        ]
       },
       "31af15d2-7e15-44c5-ab5e-e04b16a89eff": {
        "id": "31af15d2-7e15-44c5-ab5e-e04b16a89eff",
        "rgb": [
         68,
         68,
         68
        ]
       },
       "50f92c45-a630-455b-aec3-788680ec7410": {
        "id": "50f92c45-a630-455b-aec3-788680ec7410",
        "rgb": [
         197,
         226,
         245
        ]
       },
       "c5cc3653-2ee1-402a-aba2-7caae1da4f6c": {
        "id": "c5cc3653-2ee1-402a-aba2-7caae1da4f6c",
        "rgb": [
         43,
         126,
         184
        ]
       },
       "efa7f048-9acb-414c-8b04-a26811511a21": {
        "id": "efa7f048-9acb-414c-8b04-a26811511a21",
        "rgb": [
         25.118061674008803,
         73.60176211453744,
         107.4819383259912
        ]
       }
      },
      "rules": {
       "a": {
        "color": "19cc588f-0593-49c9-9f4b-e4d7cc113b1c"
       },
       "blockquote": {
        "color": "50f92c45-a630-455b-aec3-788680ec7410",
        "font-size": 3
       },
       "code": {
        "font-family": "Anonymous Pro"
       },
       "h1": {
        "color": "19cc588f-0593-49c9-9f4b-e4d7cc113b1c",
        "font-family": "Merriweather",
        "font-size": 8
       },
       "h2": {
        "color": "19cc588f-0593-49c9-9f4b-e4d7cc113b1c",
        "font-family": "Merriweather",
        "font-size": 6
       },
       "h3": {
        "color": "50f92c45-a630-455b-aec3-788680ec7410",
        "font-family": "Lato",
        "font-size": 5.5
       },
       "h4": {
        "color": "c5cc3653-2ee1-402a-aba2-7caae1da4f6c",
        "font-family": "Lato",
        "font-size": 5
       },
       "h5": {
        "font-family": "Lato"
       },
       "h6": {
        "font-family": "Lato"
       },
       "h7": {
        "font-family": "Lato"
       },
       "li": {
        "color": "50f92c45-a630-455b-aec3-788680ec7410",
        "font-size": 3.25
       },
       "pre": {
        "font-family": "Anonymous Pro",
        "font-size": 4
       }
      },
      "text-base": {
       "color": "19cc588f-0593-49c9-9f4b-e4d7cc113b1c",
       "font-family": "Lato",
       "font-size": 4
      }
     },
     "c91b0764-76dd-4e9e-9709-928b3fd062d7": {
      "id": "c91b0764-76dd-4e9e-9709-928b3fd062d7",
      "palette": {
       "19cc588f-0593-49c9-9f4b-e4d7cc113b1c": {
        "id": "19cc588f-0593-49c9-9f4b-e4d7cc113b1c",
        "rgb": [
         252,
         252,
         252
        ]
       },
       "31af15d2-7e15-44c5-ab5e-e04b16a89eff": {
        "id": "31af15d2-7e15-44c5-ab5e-e04b16a89eff",
        "rgb": [
         68,
         68,
         68
        ]
       },
       "50f92c45-a630-455b-aec3-788680ec7410": {
        "id": "50f92c45-a630-455b-aec3-788680ec7410",
        "rgb": [
         155,
         177,
         192
        ]
       },
       "c5cc3653-2ee1-402a-aba2-7caae1da4f6c": {
        "id": "c5cc3653-2ee1-402a-aba2-7caae1da4f6c",
        "rgb": [
         43,
         126,
         184
        ]
       },
       "efa7f048-9acb-414c-8b04-a26811511a21": {
        "id": "efa7f048-9acb-414c-8b04-a26811511a21",
        "rgb": [
         25.118061674008803,
         73.60176211453744,
         107.4819383259912
        ]
       }
      },
      "rules": {
       "blockquote": {
        "color": "50f92c45-a630-455b-aec3-788680ec7410"
       },
       "code": {
        "font-family": "Anonymous Pro"
       },
       "h1": {
        "color": "c5cc3653-2ee1-402a-aba2-7caae1da4f6c",
        "font-family": "Lato",
        "font-size": 8
       },
       "h2": {
        "color": "c5cc3653-2ee1-402a-aba2-7caae1da4f6c",
        "font-family": "Lato",
        "font-size": 6
       },
       "h3": {
        "color": "50f92c45-a630-455b-aec3-788680ec7410",
        "font-family": "Lato",
        "font-size": 5.5
       },
       "h4": {
        "color": "c5cc3653-2ee1-402a-aba2-7caae1da4f6c",
        "font-family": "Lato",
        "font-size": 5
       },
       "h5": {
        "font-family": "Lato"
       },
       "h6": {
        "font-family": "Lato"
       },
       "h7": {
        "font-family": "Lato"
       },
       "pre": {
        "font-family": "Anonymous Pro",
        "font-size": 4
       }
      },
      "text-base": {
       "font-family": "Merriweather",
       "font-size": 4
      }
     }
    }
   }
  }
 },
 "nbformat": 4,
 "nbformat_minor": 1
}
